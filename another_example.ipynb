{
 "cells": [
  {
   "cell_type": "code",
   "execution_count": 1,
   "metadata": {},
   "outputs": [],
   "source": [
    "import numpy as np\n",
    "import matplotlib.pyplot as plt\n",
    "import pandas as pd\n",
    "import seaborn as sns"
   ]
  },
  {
   "cell_type": "code",
   "execution_count": 21,
   "metadata": {
    "scrolled": true
   },
   "outputs": [
    {
     "name": "stdout",
     "output_type": "stream",
     "text": [
      "Using matplotlib backend: MacOSX\n"
     ]
    }
   ],
   "source": [
    "# run this to get rendering outside of jupyter\n",
    "%matplotlib auto"
   ]
  },
  {
   "cell_type": "code",
   "execution_count": 10,
   "metadata": {},
   "outputs": [],
   "source": [
    "# run this to get rendering in the notebook\n",
    "%matplotlib inline"
   ]
  },
  {
   "cell_type": "code",
   "execution_count": 11,
   "metadata": {},
   "outputs": [
    {
     "name": "stderr",
     "output_type": "stream",
     "text": [
      "/Users/birdy/miniconda2/lib/python2.7/site-packages/ipykernel_launcher.py:2: FutureWarning: from_csv is deprecated. Please use read_csv(...) instead. Note that some of the default arguments are different, so please refer to the documentation for from_csv when changing your function calls\n",
      "  \n"
     ]
    }
   ],
   "source": [
    "# this is a comment\n",
    "dat = pd.DataFrame.from_csv('/Users/birdy/Documents/workspace/VEGAS/DecisionMakingResultsLCOE.txt', index_col=None, sep=' ')"
   ]
  },
  {
   "cell_type": "code",
   "execution_count": 12,
   "metadata": {
    "scrolled": true
   },
   "outputs": [
    {
     "data": {
      "text/plain": [
       "(441, 5)"
      ]
     },
     "execution_count": 12,
     "metadata": {},
     "output_type": "execute_result"
    }
   ],
   "source": [
    "dat.shape"
   ]
  },
  {
   "cell_type": "code",
   "execution_count": 13,
   "metadata": {},
   "outputs": [
    {
     "data": {
      "text/plain": [
       "array([0, 1, 2, 3])"
      ]
     },
     "execution_count": 13,
     "metadata": {},
     "output_type": "execute_result"
    }
   ],
   "source": [
    "dat['reactor_build_decision'].unique()"
   ]
  },
  {
   "cell_type": "code",
   "execution_count": 14,
   "metadata": {
    "scrolled": false
   },
   "outputs": [
    {
     "data": {
      "text/html": [
       "<div>\n",
       "<style scoped>\n",
       "    .dataframe tbody tr th:only-of-type {\n",
       "        vertical-align: middle;\n",
       "    }\n",
       "\n",
       "    .dataframe tbody tr th {\n",
       "        vertical-align: top;\n",
       "    }\n",
       "\n",
       "    .dataframe thead th {\n",
       "        text-align: right;\n",
       "    }\n",
       "</style>\n",
       "<table border=\"1\" class=\"dataframe\">\n",
       "  <thead>\n",
       "    <tr style=\"text-align: right;\">\n",
       "      <th></th>\n",
       "      <th></th>\n",
       "      <th>sfr_capital_cost</th>\n",
       "      <th>g_lcoe</th>\n",
       "      <th>u_lcoe</th>\n",
       "    </tr>\n",
       "    <tr>\n",
       "      <th>reactor_build_decision</th>\n",
       "      <th>htgr_capital_cost</th>\n",
       "      <th></th>\n",
       "      <th></th>\n",
       "      <th></th>\n",
       "    </tr>\n",
       "  </thead>\n",
       "  <tbody>\n",
       "    <tr>\n",
       "      <th rowspan=\"3\" valign=\"top\">0</th>\n",
       "      <th>0</th>\n",
       "      <td>1</td>\n",
       "      <td>0.415166</td>\n",
       "      <td>9.716755</td>\n",
       "    </tr>\n",
       "    <tr>\n",
       "      <th>1</th>\n",
       "      <td>1</td>\n",
       "      <td>0.415166</td>\n",
       "      <td>9.716755</td>\n",
       "    </tr>\n",
       "    <tr>\n",
       "      <th>2</th>\n",
       "      <td>1</td>\n",
       "      <td>0.415166</td>\n",
       "      <td>9.716755</td>\n",
       "    </tr>\n",
       "    <tr>\n",
       "      <th rowspan=\"3\" valign=\"top\">1</th>\n",
       "      <th>0</th>\n",
       "      <td>1</td>\n",
       "      <td>0.301610</td>\n",
       "      <td>9.313882</td>\n",
       "    </tr>\n",
       "    <tr>\n",
       "      <th>1</th>\n",
       "      <td>1</td>\n",
       "      <td>0.301610</td>\n",
       "      <td>9.503287</td>\n",
       "    </tr>\n",
       "    <tr>\n",
       "      <th>2</th>\n",
       "      <td>1</td>\n",
       "      <td>0.301610</td>\n",
       "      <td>9.692639</td>\n",
       "    </tr>\n",
       "    <tr>\n",
       "      <th rowspan=\"3\" valign=\"top\">2</th>\n",
       "      <th>0</th>\n",
       "      <td>1</td>\n",
       "      <td>0.385699</td>\n",
       "      <td>9.716187</td>\n",
       "    </tr>\n",
       "    <tr>\n",
       "      <th>1</th>\n",
       "      <td>1</td>\n",
       "      <td>0.385699</td>\n",
       "      <td>9.716187</td>\n",
       "    </tr>\n",
       "    <tr>\n",
       "      <th>2</th>\n",
       "      <td>1</td>\n",
       "      <td>0.385699</td>\n",
       "      <td>9.716187</td>\n",
       "    </tr>\n",
       "    <tr>\n",
       "      <th rowspan=\"3\" valign=\"top\">3</th>\n",
       "      <th>0</th>\n",
       "      <td>1</td>\n",
       "      <td>0.304503</td>\n",
       "      <td>9.382353</td>\n",
       "    </tr>\n",
       "    <tr>\n",
       "      <th>1</th>\n",
       "      <td>1</td>\n",
       "      <td>0.304503</td>\n",
       "      <td>9.538982</td>\n",
       "    </tr>\n",
       "    <tr>\n",
       "      <th>2</th>\n",
       "      <td>1</td>\n",
       "      <td>0.304503</td>\n",
       "      <td>9.695560</td>\n",
       "    </tr>\n",
       "  </tbody>\n",
       "</table>\n",
       "</div>"
      ],
      "text/plain": [
       "                                          sfr_capital_cost    g_lcoe    u_lcoe\n",
       "reactor_build_decision htgr_capital_cost                                      \n",
       "0                      0                                 1  0.415166  9.716755\n",
       "                       1                                 1  0.415166  9.716755\n",
       "                       2                                 1  0.415166  9.716755\n",
       "1                      0                                 1  0.301610  9.313882\n",
       "                       1                                 1  0.301610  9.503287\n",
       "                       2                                 1  0.301610  9.692639\n",
       "2                      0                                 1  0.385699  9.716187\n",
       "                       1                                 1  0.385699  9.716187\n",
       "                       2                                 1  0.385699  9.716187\n",
       "3                      0                                 1  0.304503  9.382353\n",
       "                       1                                 1  0.304503  9.538982\n",
       "                       2                                 1  0.304503  9.695560"
      ]
     },
     "execution_count": 14,
     "metadata": {},
     "output_type": "execute_result"
    }
   ],
   "source": [
    "dat.groupby(['reactor_build_decision','htgr_capital_cost']).mean()"
   ]
  },
  {
   "cell_type": "code",
   "execution_count": 15,
   "metadata": {},
   "outputs": [
    {
     "data": {
      "text/html": [
       "<div>\n",
       "<style scoped>\n",
       "    .dataframe tbody tr th:only-of-type {\n",
       "        vertical-align: middle;\n",
       "    }\n",
       "\n",
       "    .dataframe tbody tr th {\n",
       "        vertical-align: top;\n",
       "    }\n",
       "\n",
       "    .dataframe thead th {\n",
       "        text-align: right;\n",
       "    }\n",
       "</style>\n",
       "<table border=\"1\" class=\"dataframe\">\n",
       "  <thead>\n",
       "    <tr style=\"text-align: right;\">\n",
       "      <th></th>\n",
       "      <th></th>\n",
       "      <th>sfr_capital_cost</th>\n",
       "      <th>g_lcoe</th>\n",
       "      <th>u_lcoe</th>\n",
       "    </tr>\n",
       "    <tr>\n",
       "      <th>reactor_build_decision</th>\n",
       "      <th>htgr_capital_cost</th>\n",
       "      <th></th>\n",
       "      <th></th>\n",
       "      <th></th>\n",
       "    </tr>\n",
       "  </thead>\n",
       "  <tbody>\n",
       "    <tr>\n",
       "      <th rowspan=\"3\" valign=\"top\">0</th>\n",
       "      <th>0</th>\n",
       "      <td>1.000000</td>\n",
       "      <td>0.000000</td>\n",
       "      <td>0.000000</td>\n",
       "    </tr>\n",
       "    <tr>\n",
       "      <th>1</th>\n",
       "      <td>1.000000</td>\n",
       "      <td>0.000000</td>\n",
       "      <td>0.000000</td>\n",
       "    </tr>\n",
       "    <tr>\n",
       "      <th>2</th>\n",
       "      <td>1.000000</td>\n",
       "      <td>0.000000</td>\n",
       "      <td>0.000000</td>\n",
       "    </tr>\n",
       "    <tr>\n",
       "      <th rowspan=\"3\" valign=\"top\">1</th>\n",
       "      <th>0</th>\n",
       "      <td>0.830455</td>\n",
       "      <td>0.048809</td>\n",
       "      <td>0.185563</td>\n",
       "    </tr>\n",
       "    <tr>\n",
       "      <th>1</th>\n",
       "      <td>0.830455</td>\n",
       "      <td>0.048809</td>\n",
       "      <td>0.102809</td>\n",
       "    </tr>\n",
       "    <tr>\n",
       "      <th>2</th>\n",
       "      <td>0.830455</td>\n",
       "      <td>0.048809</td>\n",
       "      <td>0.032918</td>\n",
       "    </tr>\n",
       "    <tr>\n",
       "      <th rowspan=\"3\" valign=\"top\">2</th>\n",
       "      <th>0</th>\n",
       "      <td>0.840168</td>\n",
       "      <td>0.016321</td>\n",
       "      <td>0.009831</td>\n",
       "    </tr>\n",
       "    <tr>\n",
       "      <th>1</th>\n",
       "      <td>0.840168</td>\n",
       "      <td>0.016321</td>\n",
       "      <td>0.009831</td>\n",
       "    </tr>\n",
       "    <tr>\n",
       "      <th>2</th>\n",
       "      <td>0.840168</td>\n",
       "      <td>0.016321</td>\n",
       "      <td>0.009831</td>\n",
       "    </tr>\n",
       "    <tr>\n",
       "      <th rowspan=\"3\" valign=\"top\">3</th>\n",
       "      <th>0</th>\n",
       "      <td>0.820783</td>\n",
       "      <td>0.043451</td>\n",
       "      <td>0.180758</td>\n",
       "    </tr>\n",
       "    <tr>\n",
       "      <th>1</th>\n",
       "      <td>0.820783</td>\n",
       "      <td>0.043451</td>\n",
       "      <td>0.099900</td>\n",
       "    </tr>\n",
       "    <tr>\n",
       "      <th>2</th>\n",
       "      <td>0.820783</td>\n",
       "      <td>0.043451</td>\n",
       "      <td>0.032620</td>\n",
       "    </tr>\n",
       "  </tbody>\n",
       "</table>\n",
       "</div>"
      ],
      "text/plain": [
       "                                          sfr_capital_cost    g_lcoe    u_lcoe\n",
       "reactor_build_decision htgr_capital_cost                                      \n",
       "0                      0                          1.000000  0.000000  0.000000\n",
       "                       1                          1.000000  0.000000  0.000000\n",
       "                       2                          1.000000  0.000000  0.000000\n",
       "1                      0                          0.830455  0.048809  0.185563\n",
       "                       1                          0.830455  0.048809  0.102809\n",
       "                       2                          0.830455  0.048809  0.032918\n",
       "2                      0                          0.840168  0.016321  0.009831\n",
       "                       1                          0.840168  0.016321  0.009831\n",
       "                       2                          0.840168  0.016321  0.009831\n",
       "3                      0                          0.820783  0.043451  0.180758\n",
       "                       1                          0.820783  0.043451  0.099900\n",
       "                       2                          0.820783  0.043451  0.032620"
      ]
     },
     "execution_count": 15,
     "metadata": {},
     "output_type": "execute_result"
    }
   ],
   "source": [
    "dat.groupby(['reactor_build_decision','htgr_capital_cost']).std()"
   ]
  },
  {
   "cell_type": "code",
   "execution_count": 16,
   "metadata": {},
   "outputs": [
    {
     "name": "stdout",
     "output_type": "stream",
     "text": [
      "\\begin{tabular}{llrrr}\n",
      "\\toprule\n",
      "  &   &  sfr\\_capital\\_cost &    g\\_lcoe &    u\\_lcoe \\\\\n",
      "reactor\\_build\\_decision & htgr\\_capital\\_cost &                   &           &           \\\\\n",
      "\\midrule\n",
      "0 & 0 &                 1 &  0.415166 &  9.716755 \\\\\n",
      "  & 1 &                 1 &  0.415166 &  9.716755 \\\\\n",
      "  & 2 &                 1 &  0.415166 &  9.716755 \\\\\n",
      "1 & 0 &                 1 &  0.301610 &  9.313882 \\\\\n",
      "  & 1 &                 1 &  0.301610 &  9.503287 \\\\\n",
      "  & 2 &                 1 &  0.301610 &  9.692639 \\\\\n",
      "2 & 0 &                 1 &  0.385699 &  9.716187 \\\\\n",
      "  & 1 &                 1 &  0.385699 &  9.716187 \\\\\n",
      "  & 2 &                 1 &  0.385699 &  9.716187 \\\\\n",
      "3 & 0 &                 1 &  0.304503 &  9.382353 \\\\\n",
      "  & 1 &                 1 &  0.304503 &  9.538982 \\\\\n",
      "  & 2 &                 1 &  0.304503 &  9.695560 \\\\\n",
      "\\bottomrule\n",
      "\\end{tabular}\n",
      "\n"
     ]
    }
   ],
   "source": [
    "print dat.groupby(['reactor_build_decision','htgr_capital_cost']).mean().to_latex()"
   ]
  },
  {
   "cell_type": "code",
   "execution_count": 22,
   "metadata": {},
   "outputs": [],
   "source": [
    "# set styles\n",
    "sns.set(style=\"whitegrid\", palette=\"dark\", color_codes=True, context='talk')\n",
    "\n",
    "# Draw a nested violinplot and split the violins for easier comparison\n",
    "g = sns.lmplot(x=\"g_lcoe\", y=\"u_lcoe\", hue=\"reactor_build_decision\",\n",
    "               truncate=True, size=5, data=dat)\n",
    "\n",
    "sns.despine(left=True)\n",
    "\n",
    "plt.show()"
   ]
  },
  {
   "cell_type": "code",
   "execution_count": null,
   "metadata": {
    "collapsed": true
   },
   "outputs": [],
   "source": []
  }
 ],
 "metadata": {
  "kernelspec": {
   "display_name": "Python 2",
   "language": "python",
   "name": "python2"
  },
  "language_info": {
   "codemirror_mode": {
    "name": "ipython",
    "version": 2
   },
   "file_extension": ".py",
   "mimetype": "text/x-python",
   "name": "python",
   "nbconvert_exporter": "python",
   "pygments_lexer": "ipython2",
   "version": "2.7.14"
  }
 },
 "nbformat": 4,
 "nbformat_minor": 2
}
